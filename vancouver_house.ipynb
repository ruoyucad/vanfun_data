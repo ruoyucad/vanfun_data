{
 "cells": [
  {
   "cell_type": "code",
   "execution_count": 1,
   "metadata": {},
   "outputs": [],
   "source": [
    "import requests\n",
    "from time import sleep, time\n",
    "import numpy as np\n",
    "from tqdm import tqdm\n",
    "from bs4 import BeautifulSoup \n",
    "import pandas as pd\n",
    "from multiprocessing import Pool\n",
    "\n",
    "num_partitions = 20 #number of partitions to split dataframe\n",
    "num_cores = 4 #number of cores on your machine\n",
    "ROOT_URL = 'http://www.vanfun.net'"
   ]
  },
  {
   "cell_type": "code",
   "execution_count": 2,
   "metadata": {},
   "outputs": [],
   "source": [
    "def get_listing_data(type_code, endpage):\n",
    "    '''\n",
    "    type_code 1 = house\n",
    "    type_code 2 = townhouse\n",
    "    type_code 3 = apartment\n",
    "    '''\n",
    "    all_page_response = []\n",
    "    for page in tqdm(range(1,endpage)): \n",
    "        req = requests.get(ROOT_URL+'/house-{}-0-0-0-0-0-0-0-0-0-{}-0-0-0-0-0-0-0-0.aspx'.format(type_code,page))\n",
    "        temp_soup = BeautifulSoup(req.text, \"lxml\")\n",
    "        # 从第三个开始 前面两个是广告\n",
    "        listing_div_list = temp_soup.find('dl',{\"id\":\"goodsList\"}).find_all(\"dd\",title =True)[3:]\n",
    "        all_page_response.append(listing_div_list)\n",
    "        #sleep(1)\n",
    "    return all_page_response\n",
    "\n",
    "\n",
    "def get_info_per_page(listing_page):\n",
    "    temp_page = pd.DataFrame()\n",
    "    for house in listing_page:\n",
    "        temp = pd.DataFrame({'address': house[\"title\"],\n",
    "                             'id': house.find_all('a')[0]['data-code'],\n",
    "                             'house__detail_link':ROOT_URL+house.find_all('a')[0]['href'],\n",
    "                             'house_config':house.find('span',{\"class\":\"orange\"}).text,\n",
    "                             'list_comapny':house.find('span',{\"class\":\"listingof\"}).text,\n",
    "                             'price_cad':house.find('span',{\"class\":\"price\"}).text,\n",
    "                             'price_rmb':house.find('span',{\"class\":\"price_rmb\"}).text\n",
    "                            }, index=[0])\n",
    "\n",
    "        temp_page = pd.concat([temp_page, temp])\n",
    "    return temp_page\n",
    "\n",
    "\n",
    "def save_to_excel(type_code,endpage, reponses):\n",
    "\n",
    "    total_listing = pd.DataFrame()\n",
    "    chunk_of_df = []\n",
    "    for page in tqdm(range(endpage-1)):\n",
    "        chunk_of_df.append(get_info_per_page(reponses[page]))\n",
    "    total_listing = pd.concat(chunk_of_df,ignore_index=True)\n",
    "    total_listing.to_excel('total_vancouver_{}_data.xlsx'.format(type_code))\n",
    "    \n",
    "def get_house_detail_to_df(dataframe):\n",
    "    # container\n",
    "    ids = []\n",
    "    temp_info = pd.DataFrame()\n",
    "    \n",
    "    for ide in tqdm(dataframe.id.values):\n",
    "        req = requests.get(ROOT_URL+'/house-{}.aspx'.format(int(ide)))\n",
    "        temp_soup = BeautifulSoup(req.text, \"lxml\")\n",
    "        if temp_soup.find('tbody') is None:\n",
    "            pass       \n",
    "        else:\n",
    "            # do stuff here\n",
    "            house_info_table = temp_soup.find('tbody')\n",
    "            # add record to dataframe\n",
    "            house_info_table = pd.DataFrame({'MLS_number': house_info_table.find('input',{'class':'house_mslno'})['value'],\n",
    "                             'listed_date': house_info_table.find('td',title=True).text,\n",
    "                             'house_size':house_info_table.find_all('span',{'class':'numb area'})[0].text,\n",
    "                             'land_size':house_info_table.find_all('span',{'class':'numb area'})[1].text ,\n",
    "                             'feature':house_info_table.findAll('td',attrs={'class': None})[3].text,\n",
    "                             'land_tax':house_info_table.findAll('td',attrs={'class': None})[5].text\n",
    "                            }, index=[0])\n",
    "            # add id\n",
    "            ids.append(ide)\n",
    "            temp_info = pd.concat([temp_info, house_info_table])\n",
    "            sleep(1)\n",
    "     # add ids to dataframe\n",
    "    temp_info['id'] = ids\n",
    "    temp_info = temp_info.reset_index(drop=True)     \n",
    "    return temp_info\n",
    "\n",
    "\n",
    "# def get_info_to_df(house_reponse, ids):\n",
    "#     temp_info = pd.DataFrame()\n",
    "#     for house in tqdm(house_reponse):\n",
    "#         temp = pd.DataFrame({'MLS_number': house.find('input',{'class':'house_mslno'})['value'],\n",
    "#                              'listed_date': house.find('td',title=True).text,\n",
    "#                              'house_size':house.find_all('span',{'class':'numb area'})[0].text,\n",
    "#                              'land_size':house.find_all('span',{'class':'numb area'})[1].text ,\n",
    "#                              'feature':house.findAll('td',attrs={'class': None})[3].text,\n",
    "#                              'land_tax':house.findAll('td',attrs={'class': None})[5].text\n",
    "#                             }, index=[0])\n",
    "\n",
    "#         temp_info = pd.concat([temp_info, temp])\n",
    "#     temp_info['id'] = ids\n",
    "#     temp_info = temp_info.reset_index(drop=True)\n",
    "#     return temp_info\n",
    "\n",
    "\n",
    "def parallelize_dataframe(df, func):\n",
    "    df_split = np.array_split(df, num_partitions)\n",
    "    pool = Pool(num_cores)\n",
    "    df = pd.concat(pool.map(func, df_split))\n",
    "    pool.close()\n",
    "    pool.join()\n",
    "    return df"
   ]
  },
  {
   "cell_type": "code",
   "execution_count": 3,
   "metadata": {},
   "outputs": [],
   "source": [
    "house = pd.read_excel('vanfun_data/total_vancouver_1_data.xlsx')\n",
    "town = pd.read_excel('vanfun_data/total_vancouver_2_data.xlsx')\n",
    "apartment = pd.read_excel('vanfun_data/total_vancouver_3_data.xlsx')\n",
    "total = pd.concat([house,town,apartment]).reset_index(drop=True)"
   ]
  },
  {
   "cell_type": "code",
   "execution_count": 9,
   "metadata": {},
   "outputs": [
    {
     "name": "stderr",
     "output_type": "stream",
     "text": [
      " 98%|█████████▊| 265/271 [06:56<00:09,  1.53s/it]\n",
      "  1%|          | 2/271 [00:03<06:43,  1.50s/it]\n",
      "100%|██████████| 271/271 [07:01<00:00,  1.53s/it]\n",
      "100%|██████████| 271/271 [07:06<00:00,  1.53s/it]\n",
      "100%|██████████| 271/271 [06:53<00:00,  1.51s/it]\n",
      "100%|██████████| 271/271 [06:54<00:00,  1.52s/it]\n",
      "  1%|▏         | 4/270 [00:06<06:40,  1.51s/it]\n",
      "100%|██████████| 271/271 [07:01<00:00,  1.53s/it]\n",
      "100%|██████████| 270/270 [06:51<00:00,  1.55s/it]\n",
      "100%|██████████| 271/271 [06:57<00:00,  1.59s/it]\n",
      "100%|██████████| 270/270 [06:55<00:00,  1.54s/it]\n",
      "100%|██████████| 270/270 [06:56<00:00,  1.54s/it]\n",
      "100%|██████████| 271/271 [06:49<00:00,  1.53s/it]\n",
      "100%|██████████| 270/270 [06:54<00:00,  1.53s/it]\n",
      "100%|██████████| 270/270 [06:50<00:00,  1.37s/it]\n",
      "100%|██████████| 270/270 [06:56<00:00,  1.52s/it]\n",
      "100%|█████████▉| 269/270 [06:53<00:01,  1.56s/it]\n",
      "100%|██████████| 270/270 [06:55<00:00,  1.58s/it]\n",
      "100%|██████████| 270/270 [07:02<00:00,  1.30s/it]\n",
      "100%|██████████| 270/270 [07:07<00:00,  1.55s/it]\n"
     ]
    }
   ],
   "source": [
    "# \n",
    "apartment_detail = parallelize_dataframe(apartment,get_house_detail_to_df)"
   ]
  },
  {
   "cell_type": "code",
   "execution_count": 19,
   "metadata": {},
   "outputs": [],
   "source": [
    "apartment_detail = pd.read_excel('apartment_detail.xlsx')\n",
    "townhouse = pd.read_excel('townhouse_detail.xlsx')\n",
    "house = pd.read_excel('house_detail.xlsx')"
   ]
  },
  {
   "cell_type": "code",
   "execution_count": 21,
   "metadata": {},
   "outputs": [],
   "source": [
    "total_detail = pd.concat([apartment_detail,townhouse,house]).reset_index(drop=True)"
   ]
  },
  {
   "cell_type": "code",
   "execution_count": 22,
   "metadata": {},
   "outputs": [],
   "source": [
    "total = total.merge(total_detail,on='id').reset_index(drop=True)"
   ]
  },
  {
   "cell_type": "code",
   "execution_count": 24,
   "metadata": {},
   "outputs": [],
   "source": [
    "total.to_excel('final.xlsx')"
   ]
  },
  {
   "cell_type": "code",
   "execution_count": null,
   "metadata": {},
   "outputs": [],
   "source": []
  }
 ],
 "metadata": {
  "kernelspec": {
   "display_name": "Python 3",
   "language": "python",
   "name": "python3"
  },
  "language_info": {
   "codemirror_mode": {
    "name": "ipython",
    "version": 3
   },
   "file_extension": ".py",
   "mimetype": "text/x-python",
   "name": "python",
   "nbconvert_exporter": "python",
   "pygments_lexer": "ipython3",
   "version": "3.5.2"
  }
 },
 "nbformat": 4,
 "nbformat_minor": 2
}
