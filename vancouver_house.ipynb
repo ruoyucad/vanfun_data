{
 "cells": [
  {
   "cell_type": "code",
   "execution_count": 5,
   "metadata": {},
   "outputs": [],
   "source": [
    "import requests\n",
    "from time import sleep, time\n",
    "from tqdm import tqdm\n",
    "from bs4 import BeautifulSoup \n",
    "import pandas as pd\n",
    "\n",
    "ROOT_URL = 'http://www.vanfun.net'"
   ]
  },
  {
   "cell_type": "code",
   "execution_count": 10,
   "metadata": {},
   "outputs": [],
   "source": [
    "def get_listing_data(type_code, endpage):\n",
    "    '''\n",
    "    type_code 1 = house\n",
    "    type_code 2 = townhouse\n",
    "    type_code 3 = apartment\n",
    "    '''\n",
    "    all_page_response = []\n",
    "    for page in tqdm(range(1,endpage)): \n",
    "        req = requests.get(ROOT_URL+'/house-{}-0-0-0-0-0-0-0-0-0-{}-0-0-0-0-0-0-0-0.aspx'.format(type_code,page))\n",
    "        temp_soup = BeautifulSoup(req.text, \"lxml\")\n",
    "        # 从第三个开始 前面两个是广告\n",
    "        listing_div_list = temp_soup.find('dl',{\"id\":\"goodsList\"}).find_all(\"dd\",title =True)[3:]\n",
    "        all_page_response.append(listing_div_list)\n",
    "        #sleep(1)\n",
    "    return all_page_response\n",
    "\n",
    "\n",
    "def get_info_per_page(listing_page):\n",
    "    temp_page = pd.DataFrame()\n",
    "    for house in listing_page:\n",
    "        temp = pd.DataFrame({'address': house[\"title\"],\n",
    "                             'id': house.find_all('a')[0]['data-code'],\n",
    "                             'house__detail_link':ROOT_URL+house.find_all('a')[0]['href'],\n",
    "                             'house_config':house.find('span',{\"class\":\"orange\"}).text,\n",
    "                             'list_comapny':house.find('span',{\"class\":\"listingof\"}).text,\n",
    "                             'price_cad':house.find('span',{\"class\":\"price\"}).text,\n",
    "                             'price_rmb':house.find('span',{\"class\":\"price_rmb\"}).text\n",
    "                            }, index=[0])\n",
    "\n",
    "        temp_page = pd.concat([temp_page, temp])\n",
    "    return temp_page\n",
    "\n",
    "\n",
    "def save_to_excel(type_code,endpage, reponses):\n",
    "\n",
    "    total_listing = pd.DataFrame()\n",
    "    chunk_of_df = []\n",
    "    for page in tqdm(range(endpage-1)):\n",
    "        chunk_of_df.append(get_info_per_page(reponses[page]))\n",
    "    total_listing = pd.concat(chunk_of_df,ignore_index=True)\n",
    "    total_listing.to_excel('total_vancouver_{}_data.xlsx'.format(type_code))"
   ]
  },
  {
   "cell_type": "code",
   "execution_count": 7,
   "metadata": {},
   "outputs": [
    {
     "name": "stderr",
     "output_type": "stream",
     "text": [
      "100%|██████████| 266/266 [07:11<00:00,  1.57s/it]\n",
      "100%|██████████| 266/266 [00:04<00:00, 59.35it/s]\n"
     ]
    }
   ],
   "source": [
    "townhouse_data = get_listing_data(2,267)\n",
    "save_to_excel(2,266, townhouse_data)"
   ]
  },
  {
   "cell_type": "code",
   "execution_count": 11,
   "metadata": {},
   "outputs": [
    {
     "name": "stderr",
     "output_type": "stream",
     "text": [
      "100%|██████████| 541/541 [05:20<00:00,  1.80it/s]\n",
      "100%|██████████| 541/541 [00:09<00:00, 59.08it/s]\n"
     ]
    }
   ],
   "source": [
    "apartment_data = get_listing_data(3,542)\n",
    "save_to_excel(3,542, apartment_data)"
   ]
  },
  {
   "cell_type": "code",
   "execution_count": null,
   "metadata": {},
   "outputs": [],
   "source": []
  }
 ],
 "metadata": {
  "kernelspec": {
   "display_name": "Python 3",
   "language": "python",
   "name": "python3"
  },
  "language_info": {
   "codemirror_mode": {
    "name": "ipython",
    "version": 3
   },
   "file_extension": ".py",
   "mimetype": "text/x-python",
   "name": "python",
   "nbconvert_exporter": "python",
   "pygments_lexer": "ipython3",
   "version": "3.5.2"
  }
 },
 "nbformat": 4,
 "nbformat_minor": 2
}
